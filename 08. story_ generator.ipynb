{
 "cells": [
  {
   "cell_type": "code",
   "execution_count": 13,
   "id": "ec3d4ef7",
   "metadata": {},
   "outputs": [
    {
     "name": "stdout",
     "output_type": "stream",
     "text": [
      "A few years ago,a thief name Ashoka that lived in India, went to the temple and made a lot of friends\n"
     ]
    }
   ],
   "source": [
    "import random\n",
    "when = ['A few years ago', 'yestreday', 'Lastnight', 'A long time go', 'On 5th may','2 months ago',' In 1947',' few months back']\n",
    "who = ['a rabbit','an elephant','a mouse','a turtle','a cat','a king', 'a thief']\n",
    "name = ['Ashoka','Sri Ram','Mushika','Vishnu','Marjala','Valmikee']\n",
    "residence = ['India','A Dark Forest','Empty land','a small village','Big city']\n",
    "went = ['cinema','university','seminar','school','palace','temple']\n",
    "happend = ['made a lot of friends','eats a burger','found a secret key','slove mistery','worte a book','Read a story','saw a cave']\n",
    "\n",
    "print(random.choice(when)+','+random.choice(who)+' name '+random.choice(name)+' that lived in '+random.choice(residence)+', went to the '+random.choice(went)+' and '+random.choice(happend))"
   ]
  },
  {
   "cell_type": "code",
   "execution_count": null,
   "id": "b3f43b7f",
   "metadata": {},
   "outputs": [],
   "source": []
  }
 ],
 "metadata": {
  "kernelspec": {
   "display_name": "Python 3 (ipykernel)",
   "language": "python",
   "name": "python3"
  },
  "language_info": {
   "codemirror_mode": {
    "name": "ipython",
    "version": 3
   },
   "file_extension": ".py",
   "mimetype": "text/x-python",
   "name": "python",
   "nbconvert_exporter": "python",
   "pygments_lexer": "ipython3",
   "version": "3.9.6"
  }
 },
 "nbformat": 4,
 "nbformat_minor": 5
}
