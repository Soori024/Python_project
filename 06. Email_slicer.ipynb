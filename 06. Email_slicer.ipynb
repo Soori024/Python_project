{
 "cells": [
  {
   "cell_type": "code",
   "execution_count": 1,
   "id": "10af5e37",
   "metadata": {},
   "outputs": [
    {
     "name": "stdout",
     "output_type": "stream",
     "text": [
      "Enter your Email-id:sureshkrishna024@gmail.com\n",
      "Your user name is: 'sureshkrishna024'and your domain name is'gmail.com'\n"
     ]
    }
   ],
   "source": [
    "#conevrting the email into username\n",
    "\n",
    "email = input(\"Enter your Email-id:\").strip()\n",
    "user_name = email[:email.index(\"@\")]\n",
    "domain_name = email[email.index(\"@\")+1:]\n",
    "\n",
    "format_name = (f\"Your user name is: '{user_name}'and your domain name is'{domain_name}'\")\n",
    "print(format_name)"
   ]
  },
  {
   "cell_type": "code",
   "execution_count": null,
   "id": "889eb669",
   "metadata": {},
   "outputs": [],
   "source": []
  }
 ],
 "metadata": {
  "kernelspec": {
   "display_name": "Python 3 (ipykernel)",
   "language": "python",
   "name": "python3"
  },
  "language_info": {
   "codemirror_mode": {
    "name": "ipython",
    "version": 3
   },
   "file_extension": ".py",
   "mimetype": "text/x-python",
   "name": "python",
   "nbconvert_exporter": "python",
   "pygments_lexer": "ipython3",
   "version": "3.9.6"
  }
 },
 "nbformat": 4,
 "nbformat_minor": 5
}
