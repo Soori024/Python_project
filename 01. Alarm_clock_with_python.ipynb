{
 "cells": [
  {
   "cell_type": "code",
   "execution_count": 3,
   "id": "744d2bc4",
   "metadata": {},
   "outputs": [
    {
     "ename": "SyntaxError",
     "evalue": "invalid syntax (Temp/ipykernel_7268/3374900701.py, line 3)",
     "output_type": "error",
     "traceback": [
      "\u001b[1;36m  File \u001b[1;32m\"C:\\Users\\om\\AppData\\Local\\Temp/ipykernel_7268/3374900701.py\"\u001b[1;36m, line \u001b[1;32m3\u001b[0m\n\u001b[1;33m    pip list()\u001b[0m\n\u001b[1;37m        ^\u001b[0m\n\u001b[1;31mSyntaxError\u001b[0m\u001b[1;31m:\u001b[0m invalid syntax\n"
     ]
    }
   ],
   "source": [
    "#An alarm clock is a clock with a function that can be activated to ring at a time set in advance, used to wake someone\n",
    "\n"
   ]
  },
  {
   "cell_type": "code",
   "execution_count": 4,
   "id": "0ebd072d",
   "metadata": {},
   "outputs": [
    {
     "name": "stdout",
     "output_type": "stream",
     "text": [
      "Package               Version\n",
      "--------------------- --------\n",
      "argon2-cffi           21.1.0\n",
      "attrs                 21.2.0\n",
      "backcall              0.2.0\n",
      "bleach                4.1.0\n",
      "cffi                  1.15.0\n",
      "colorama              0.4.4\n",
      "cycler                0.10.0\n",
      "debugpy               1.5.1\n",
      "decorator             5.1.0\n",
      "defusedxml            0.7.1\n",
      "entrypoints           0.3\n",
      "ipykernel             6.4.2\n",
      "ipython               7.28.0\n",
      "ipython-genutils      0.2.0\n",
      "ipywidgets            7.6.5\n",
      "jedi                  0.18.0\n",
      "Jinja2                3.0.2\n",
      "jsonschema            4.1.2\n",
      "jupyter               1.0.0\n",
      "jupyter-client        7.0.6\n",
      "jupyter-console       6.4.0\n",
      "jupyter-core          4.9.0\n",
      "jupyterlab-pygments   0.1.2\n",
      "jupyterlab-widgets    1.0.2\n",
      "kiwisolver            1.3.2\n",
      "MarkupSafe            2.0.1\n",
      "matplotlib            3.4.3\n",
      "matplotlib-inline     0.1.3\n",
      "mistune               0.8.4\n",
      "nbclient              0.5.4\n",
      "nbconvert             6.2.0\n",
      "nbformat              5.1.3\n",
      "nest-asyncio          1.5.1\n",
      "notebook              6.4.5\n",
      "numpy                 1.21.3\n",
      "opencv-contrib-python 4.4.0.46\n",
      "packaging             21.0\n",
      "pandas                1.3.4\n",
      "pandocfilters         1.5.0\n",
      "parso                 0.8.2\n",
      "pickleshare           0.7.5\n",
      "Pillow                8.4.0\n",
      "pip                   21.3.1\n",
      "prometheus-client     0.11.0\n",
      "prompt-toolkit        3.0.21\n",
      "pycparser             2.20\n",
      "Pygments              2.10.0\n",
      "pyparsing             3.0.1\n",
      "pyrsistent            0.18.0\n",
      "python-dateutil       2.8.2\n",
      "pytz                  2021.3\n",
      "pywin32               302\n",
      "pywinpty              1.1.4\n",
      "pyzmq                 22.3.0\n",
      "qtconsole             5.1.1\n",
      "QtPy                  1.11.2\n",
      "scipy                 1.7.1\n",
      "seaborn               0.11.2\n",
      "Send2Trash            1.8.0\n",
      "setuptools            58.4.0\n",
      "six                   1.16.0\n",
      "terminado             0.12.1\n",
      "testpath              0.5.0\n",
      "tornado               6.1\n",
      "traitlets             5.1.1\n",
      "wcwidth               0.2.5\n",
      "webencodings          0.5.1\n",
      "widgetsnbextension    3.5.1\n",
      "Note: you may need to restart the kernel to use updated packages.\n"
     ]
    }
   ],
   "source": [
    "pip list"
   ]
  },
  {
   "cell_type": "code",
   "execution_count": 5,
   "id": "9e08952c",
   "metadata": {},
   "outputs": [
    {
     "name": "stdout",
     "output_type": "stream",
     "text": [
      "Defaulting to user installation because normal site-packages is not writeableNote: you may need to restart the kernel to use updated packages.\n",
      "Collecting playsound\n",
      "  Downloading playsound-1.3.0.tar.gz (7.7 kB)\n",
      "  Preparing metadata (setup.py): started\n",
      "  Preparing metadata (setup.py): finished with status 'done'\n",
      "Using legacy 'setup.py install' for playsound, since package 'wheel' is not installed.\n",
      "Installing collected packages: playsound\n",
      "    Running setup.py install for playsound: started\n",
      "    Running setup.py install for playsound: finished with status 'done'\n",
      "Successfully installed playsound-1.3.0\n",
      "\n"
     ]
    }
   ],
   "source": [
    "pip install playsound"
   ]
  },
  {
   "cell_type": "code",
   "execution_count": null,
   "id": "f17ad10f",
   "metadata": {},
   "outputs": [],
   "source": [
    "from datetime import datetime   \n",
    "from playsound import playsound\n",
    "alarm_time = input(\"Enter the time of alarm to be set:HH:MM:SS\\n\")\n",
    "alarm_hour=alarm_time[0:2]\n",
    "alarm_minute=alarm_time[3:5]\n",
    "alarm_seconds=alarm_time[6:8]\n",
    "alarm_period = alarm_time[9:11].upper()\n",
    "print(\"Setting up alarm..\")\n",
    "while True:\n",
    "    now = datetime.now()\n",
    "    current_hour = now.strftime(\"%I\")\n",
    "    current_minute = now.strftime(\"%M\")\n",
    "    current_seconds = now.strftime(\"%S\")\n",
    "    current_period = now.strftime(\"%p\")\n",
    "    if(alarm_period==current_period):\n",
    "        if(alarm_hour==current_hour):\n",
    "            if(alarm_minute==current_minute):\n",
    "                if(alarm_seconds==current_seconds):\n",
    "                    print(\"Wake Up!\")\n",
    "                    #playsound('audio.mp3')\n",
    "                    break"
   ]
  },
  {
   "cell_type": "code",
   "execution_count": 23,
   "id": "102f391c",
   "metadata": {},
   "outputs": [
    {
     "name": "stdout",
     "output_type": "stream",
     "text": [
      "2021-11-10 19:35:01.441382\n",
      "PM\n"
     ]
    }
   ],
   "source": [
    "from datetime import datetime\n",
    "now = datetime.now()\n",
    "print(now)\n",
    "current_period = now.strftime(\"%p\")\n",
    "print(current_period)\n"
   ]
  },
  {
   "cell_type": "code",
   "execution_count": null,
   "id": "b6013a4f",
   "metadata": {},
   "outputs": [],
   "source": []
  }
 ],
 "metadata": {
  "kernelspec": {
   "display_name": "Python 3 (ipykernel)",
   "language": "python",
   "name": "python3"
  },
  "language_info": {
   "codemirror_mode": {
    "name": "ipython",
    "version": 3
   },
   "file_extension": ".py",
   "mimetype": "text/x-python",
   "name": "python",
   "nbconvert_exporter": "python",
   "pygments_lexer": "ipython3",
   "version": "3.9.6"
  }
 },
 "nbformat": 4,
 "nbformat_minor": 5
}
