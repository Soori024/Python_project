{
 "cells": [
  {
   "cell_type": "code",
   "execution_count": 3,
   "id": "4de005e4",
   "metadata": {},
   "outputs": [
    {
     "name": "stdout",
     "output_type": "stream",
     "text": [
      "Entet the length of Password: 12\n",
      "Your Password: &xBEgz65Miws\n"
     ]
    }
   ],
   "source": [
    "import random\n",
    "\n",
    "passlen = int(input('Entet the length of Password: '))\n",
    "s = 'abcdefghijklmnopqrstuvwxyz0123456789ABCDEFGHIJKLMNOPQRSTUVWXYZ!@#$%^&*()?'\n",
    "\n",
    "psswrd = \"\".join(random.sample(s,passlen))\n",
    "\n",
    "print(\"Your Password:\",psswrd)\n"
   ]
  },
  {
   "cell_type": "code",
   "execution_count": null,
   "id": "afbf09f6",
   "metadata": {},
   "outputs": [],
   "source": []
  }
 ],
 "metadata": {
  "kernelspec": {
   "display_name": "Python 3 (ipykernel)",
   "language": "python",
   "name": "python3"
  },
  "language_info": {
   "codemirror_mode": {
    "name": "ipython",
    "version": 3
   },
   "file_extension": ".py",
   "mimetype": "text/x-python",
   "name": "python",
   "nbconvert_exporter": "python",
   "pygments_lexer": "ipython3",
   "version": "3.9.6"
  }
 },
 "nbformat": 4,
 "nbformat_minor": 5
}
