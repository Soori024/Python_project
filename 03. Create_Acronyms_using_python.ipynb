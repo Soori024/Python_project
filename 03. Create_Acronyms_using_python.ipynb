{
 "cells": [
  {
   "cell_type": "code",
   "execution_count": 5,
   "id": "f35a28d4",
   "metadata": {},
   "outputs": [
    {
     "name": "stdout",
     "output_type": "stream",
     "text": [
      "Test case:3\n",
      "Enter a Phrase:Machine learning\n",
      " ML\n",
      "Enter a Phrase:Independent nation declared in august\n",
      " INDIA\n",
      "Enter a Phrase:computer network\n",
      " CN\n"
     ]
    }
   ],
   "source": [
    "# Generates a short form of a word from a given sentence.\n",
    "t = int(input(\"Test case:\"))\n",
    "\n",
    "while(t>0):\n",
    "    input_data = str(input(\"Enter a Phrase:\"))\n",
    "\n",
    "    data = input_data.split()\n",
    "\n",
    "    a = \" \"\n",
    "\n",
    "    for i in data:\n",
    "        a = a+str(i[0]).upper()\n",
    "\n",
    "    print(a)\n",
    "    t-=1"
   ]
  },
  {
   "cell_type": "code",
   "execution_count": null,
   "id": "c4628cfc",
   "metadata": {},
   "outputs": [],
   "source": []
  }
 ],
 "metadata": {
  "kernelspec": {
   "display_name": "Python 3 (ipykernel)",
   "language": "python",
   "name": "python3"
  },
  "language_info": {
   "codemirror_mode": {
    "name": "ipython",
    "version": 3
   },
   "file_extension": ".py",
   "mimetype": "text/x-python",
   "name": "python",
   "nbconvert_exporter": "python",
   "pygments_lexer": "ipython3",
   "version": "3.9.6"
  }
 },
 "nbformat": 4,
 "nbformat_minor": 5
}
