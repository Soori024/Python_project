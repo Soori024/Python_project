{
 "cells": [
  {
   "cell_type": "code",
   "execution_count": 4,
   "id": "eca9501a",
   "metadata": {},
   "outputs": [
    {
     "name": "stdout",
     "output_type": "stream",
     "text": [
      "Enter your Height in centimeters: 169\n",
      "Enter your weight in Kg: 69\n",
      "Your Body Mass Index is: 24.158817968558527\n",
      "you are Healthy\n"
     ]
    }
   ],
   "source": [
    "Height = float(input(\"Enter your Height in centimeters: \"))\n",
    "\n",
    "Weight = float(input(\"Enter your weight in Kg: \"))\n",
    "\n",
    "Height = Height/100\n",
    "\n",
    "BMI = Weight/(Height * Height)\n",
    "\n",
    "print(\"Your Body Mass Index is:\", BMI)\n",
    "\n",
    "if(BMI>0):\n",
    "    \n",
    "    if(BMI<=16):\n",
    "        print(\"you are severely underweight\")\n",
    "    \n",
    "    elif(BMI<=18.5):\n",
    "        print(\"you are underweight\")\n",
    "        \n",
    "    elif(BMI<=25):\n",
    "        print(\"you are Healthy\")    \n",
    "    \n",
    "    elif(BMI<=30):\n",
    "        print(\"you are overweight\")\n",
    "    \n",
    "    else:\n",
    "        print(\"you are severely underweight\")\n",
    "else:\n",
    "    print(\"Enter Valid details\")"
   ]
  },
  {
   "cell_type": "code",
   "execution_count": null,
   "id": "f97cb476",
   "metadata": {},
   "outputs": [],
   "source": []
  }
 ],
 "metadata": {
  "kernelspec": {
   "display_name": "Python 3 (ipykernel)",
   "language": "python",
   "name": "python3"
  },
  "language_info": {
   "codemirror_mode": {
    "name": "ipython",
    "version": 3
   },
   "file_extension": ".py",
   "mimetype": "text/x-python",
   "name": "python",
   "nbconvert_exporter": "python",
   "pygments_lexer": "ipython3",
   "version": "3.9.6"
  }
 },
 "nbformat": 4,
 "nbformat_minor": 5
}
