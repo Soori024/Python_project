{
 "cells": [
  {
   "cell_type": "code",
   "execution_count": 6,
   "id": "f6ebcc58",
   "metadata": {},
   "outputs": [
    {
     "name": "stdout",
     "output_type": "stream",
     "text": [
      "Rolling The Dices.........\n",
      "The Value are:\n",
      "Dice No-1: 6\n",
      "Dice No-2: 5\n",
      "If Roll the Dices again...? y\n",
      "Rolling The Dices.........\n",
      "The Value are:\n",
      "Dice No-1: 4\n",
      "Dice No-2: 2\n",
      "If Roll the Dices again...? 5\n"
     ]
    }
   ],
   "source": [
    "import random\n",
    "\n",
    "min_v = 1\n",
    "max_v = 6\n",
    "\n",
    "#user input\n",
    "Roll_Again = \"yes\"\n",
    "\n",
    "while(Roll_Again == \"yes\" or Roll_Again == \"y\"):\n",
    "    print(\"Rolling The Dices.........\")\n",
    "    print(\"The Value are:\")\n",
    "    \n",
    "    print(\"Dice No-1:\",random.randint(min_v, max_v))\n",
    "    \n",
    "    print(\"Dice No-2:\",random.randint(min_v, max_v))\n",
    "    \n",
    "    Roll_Again = input(\"If Roll the Dices again...? \")\n",
    "    \n",
    "    if(Roll_Again == 'end'):\n",
    "        break"
   ]
  },
  {
   "cell_type": "code",
   "execution_count": null,
   "id": "86f50187",
   "metadata": {},
   "outputs": [],
   "source": []
  }
 ],
 "metadata": {
  "kernelspec": {
   "display_name": "Python 3 (ipykernel)",
   "language": "python",
   "name": "python3"
  },
  "language_info": {
   "codemirror_mode": {
    "name": "ipython",
    "version": 3
   },
   "file_extension": ".py",
   "mimetype": "text/x-python",
   "name": "python",
   "nbconvert_exporter": "python",
   "pygments_lexer": "ipython3",
   "version": "3.9.6"
  }
 },
 "nbformat": 4,
 "nbformat_minor": 5
}
