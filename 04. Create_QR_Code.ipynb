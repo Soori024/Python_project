{
 "cells": [
  {
   "cell_type": "code",
   "execution_count": 1,
   "id": "05812f60",
   "metadata": {},
   "outputs": [
    {
     "name": "stdout",
     "output_type": "stream",
     "text": [
      "Defaulting to user installation because normal site-packages is not writeable\n",
      "Collecting pyqrcode\n",
      "  Downloading PyQRCode-1.2.1.zip (41 kB)\n",
      "  Preparing metadata (setup.py): started\n",
      "  Preparing metadata (setup.py): finished with status 'done'\n",
      "Using legacy 'setup.py install' for pyqrcode, since package 'wheel' is not installed.\n",
      "Installing collected packages: pyqrcode\n",
      "    Running setup.py install for pyqrcode: started\n",
      "    Running setup.py install for pyqrcode: finished with status 'done'\n",
      "Successfully installed pyqrcode-1.2.1\n",
      "Note: you may need to restart the kernel to use updated packages.\n"
     ]
    }
   ],
   "source": [
    "pip install pyqrcode"
   ]
  },
  {
   "cell_type": "code",
   "execution_count": 2,
   "id": "81f223a0",
   "metadata": {
    "scrolled": true
   },
   "outputs": [
    {
     "name": "stdout",
     "output_type": "stream",
     "text": [
      "Package               Version\n",
      "--------------------- --------\n",
      "argon2-cffi           21.1.0\n",
      "attrs                 21.2.0\n",
      "backcall              0.2.0\n",
      "bleach                4.1.0\n",
      "cffi                  1.15.0\n",
      "colorama              0.4.4\n",
      "cycler                0.10.0\n",
      "debugpy               1.5.1\n",
      "decorator             5.1.0\n",
      "defusedxml            0.7.1\n",
      "entrypoints           0.3\n",
      "ipykernel             6.4.2\n",
      "ipython               7.28.0\n",
      "ipython-genutils      0.2.0\n",
      "ipywidgets            7.6.5\n",
      "jedi                  0.18.0\n",
      "Jinja2                3.0.2\n",
      "jsonschema            4.1.2\n",
      "jupyter               1.0.0\n",
      "jupyter-client        7.0.6\n",
      "jupyter-console       6.4.0\n",
      "jupyter-core          4.9.0\n",
      "jupyterlab-pygments   0.1.2\n",
      "jupyterlab-widgets    1.0.2\n",
      "kiwisolver            1.3.2\n",
      "MarkupSafe            2.0.1\n",
      "matplotlib            3.4.3\n",
      "matplotlib-inline     0.1.3\n",
      "mistune               0.8.4\n",
      "nbclient              0.5.4\n",
      "nbconvert             6.2.0\n",
      "nbformat              5.1.3\n",
      "nest-asyncio          1.5.1\n",
      "notebook              6.4.5\n",
      "numpy                 1.21.3\n",
      "opencv-contrib-python 4.4.0.46\n",
      "packaging             21.0\n",
      "pandas                1.3.4\n",
      "pandocfilters         1.5.0\n",
      "parso                 0.8.2\n",
      "pickleshare           0.7.5\n",
      "Pillow                8.4.0\n",
      "pip                   21.3.1\n",
      "playsound             1.3.0\n",
      "prometheus-client     0.11.0\n",
      "prompt-toolkit        3.0.21\n",
      "pycparser             2.20\n",
      "Pygments              2.10.0\n",
      "pyparsing             3.0.1\n",
      "PyQRCode              1.2.1\n",
      "pyrsistent            0.18.0\n",
      "python-dateutil       2.8.2\n",
      "pytz                  2021.3\n",
      "pywin32               302\n",
      "pywinpty              1.1.4\n",
      "pyzmq                 22.3.0\n",
      "qtconsole             5.1.1\n",
      "QtPy                  1.11.2\n",
      "random2               1.0.1\n",
      "scipy                 1.7.1\n",
      "seaborn               0.11.2\n",
      "Send2Trash            1.8.0\n",
      "setuptools            58.4.0\n",
      "six                   1.16.0\n",
      "terminado             0.12.1\n",
      "testpath              0.5.0\n",
      "tornado               6.1\n",
      "traitlets             5.1.1\n",
      "wcwidth               0.2.5\n",
      "webencodings          0.5.1\n",
      "widgetsnbextension    3.5.1\n",
      "Note: you may need to restart the kernel to use updated packages.\n"
     ]
    }
   ],
   "source": [
    "pip list"
   ]
  },
  {
   "cell_type": "code",
   "execution_count": 14,
   "id": "76b4f490",
   "metadata": {},
   "outputs": [],
   "source": [
    "import pyqrcode\n",
    "\n",
    "from pyqrcode import QRCode\n",
    "\n",
    "s=\"https://github.com/Soori024\"\n",
    "\n",
    "url = pyqrcode.create(s)\n",
    "\n",
    "url.svg(\"mygit.svg\",scale = 8)"
   ]
  },
  {
   "cell_type": "markdown",
   "id": "b9cfd03d",
   "metadata": {},
   "source": [
    "# Above Program will exute and the QR code are saved in your Directory -  where your Python file is"
   ]
  }
 ],
 "metadata": {
  "kernelspec": {
   "display_name": "Python 3 (ipykernel)",
   "language": "python",
   "name": "python3"
  },
  "language_info": {
   "codemirror_mode": {
    "name": "ipython",
    "version": 3
   },
   "file_extension": ".py",
   "mimetype": "text/x-python",
   "name": "python",
   "nbconvert_exporter": "python",
   "pygments_lexer": "ipython3",
   "version": "3.9.6"
  }
 },
 "nbformat": 4,
 "nbformat_minor": 5
}
